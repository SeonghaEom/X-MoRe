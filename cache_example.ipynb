{
 "cells": [
  {
   "cell_type": "code",
   "execution_count": 6,
   "metadata": {},
   "outputs": [
    {
     "name": "stdout",
     "output_type": "stream",
     "text": [
      "{}\n",
      "Adding 0 to shared_dict\n"
     ]
    },
    {
     "name": "stdout",
     "output_type": "stream",
     "text": [
      "use cache\n",
      "['Watkins Musette Accordion bellows open view', 'accordion', 'Hohner Fun Top 120', 'The Childrens Museum of Indianapolis - Titano accordion.jpg', 'Piano Accordion Vector Clipart image.', 'German Barcarole Magister, 80 Bass, 8 Registers, Case, Piano Accordion Instrument (485)', 'The Childrens Museum of Indianapolis - Titano accordion.jpg', 'Accordion Lounge']\n"
     ]
    }
   ],
   "source": [
    "\"\"\"\n",
    "Script to demonstrate the usage of shared dicts using multiple workers.\n",
    "\n",
    "In the first epoch the shared dict in the dataset will be filled with\n",
    "random values. The next epochs will just use the dict without \"loading\" the\n",
    "data again.\n",
    "\n",
    "@author: ptrblck\n",
    "\"\"\"\n",
    "\n",
    "from multiprocessing import Manager\n",
    "from clip_retrieval.clip_client import ClipClient, Modality\n",
    "import torch\n",
    "from torch.utils.data import Dataset, DataLoader\n",
    "client_backup2 = ClipClient(\n",
    "    url=\"http://127.0.0.1:1234/knn-service\",\n",
    "    indice_name='laion_400m',\n",
    "    modality=Modality.IMAGE,\n",
    "    num_images=500,\n",
    "    deduplicate=False,\n",
    ")\n",
    "\n",
    "class CaptionCache(Dataset):\n",
    "    def __init__(self, shared_dict, length):\n",
    "        self.shared_dict = shared_dict\n",
    "        self.length = length\n",
    "\n",
    "    def __getitem__(self, index, imagepath, K = None):\n",
    "        if index not in self.shared_dict:\n",
    "            print('Adding {} to shared_dict'.format(index))\n",
    "            res = client_backup2.query(image=imagepath)\n",
    "            self.shared_dict[index] = [each['caption'] for each in res[:self.length]]\n",
    "            assert len(self.shared_dict[index]) == K ## type list\n",
    "        else:\n",
    "            print(\"use cache\")\n",
    "        return self.shared_dict[index][:K]\n",
    "\n",
    "    def __len__(self):\n",
    "        return self.length\n",
    "\n",
    "\n",
    "# Init\n",
    "manager = Manager()\n",
    "shared_dict = manager.dict()\n",
    "dataset = CaptionCache(shared_dict, length=128)\n",
    "\n",
    "print(dataset.shared_dict)\n",
    "captions = dataset.__getitem__(0, '/data/seongha/caltech-101/101_ObjectCategories/accordion/image_0001.jpg', 128)\n",
    "assert len(captions) == 128\n",
    "\n",
    "captions = dataset.__getitem__(0, '/data/seongha/caltech-101/101_ObjectCategories/accordion/image_0001.jpg', 8)\n",
    "assert len(captions) == 8\n",
    "print(captions)"
   ]
  }
 ],
 "metadata": {
  "kernelspec": {
   "display_name": "base",
   "language": "python",
   "name": "python3"
  },
  "language_info": {
   "codemirror_mode": {
    "name": "ipython",
    "version": 3
   },
   "file_extension": ".py",
   "mimetype": "text/x-python",
   "name": "python",
   "nbconvert_exporter": "python",
   "pygments_lexer": "ipython3",
   "version": "3.10.9"
  },
  "orig_nbformat": 4
 },
 "nbformat": 4,
 "nbformat_minor": 2
}
