{
 "cells": [
  {
   "cell_type": "code",
   "execution_count": 2,
   "metadata": {},
   "outputs": [
    {
     "name": "stderr",
     "output_type": "stream",
     "text": [
      "/home/seongha/anaconda3/lib/python3.10/site-packages/tqdm/auto.py:21: TqdmWarning: IProgress not found. Please update jupyter and ipywidgets. See https://ipywidgets.readthedocs.io/en/stable/user_install.html\n",
      "  from .autonotebook import tqdm as notebook_tqdm\n"
     ]
    }
   ],
   "source": [
    "import torch\n",
    "import numpy as np\n",
    "import torch.nn.functional as F\n",
    "\n",
    "def select_confident_samples(logits, top):\n",
    "    batch_entropy = -(logits.softmax(1) * logits.log_softmax(1)).sum(1)\n",
    "    idx = torch.argsort(batch_entropy, descending=False)[:int(batch_entropy.size()[0] * top)]\n",
    "    return logits[idx], idx\n",
    "\n",
    "def avg_entropy(outputs):\n",
    "    # epsilon = 1e-10\n",
    "    assert len(outputs) > 0\n",
    "    assert torch.any(torch.isnan(outputs)) == False\n",
    "    # logits = outputs - outputs.logsumexp(dim=-1, keepdim=True) # logits = outputs.log_softmax(dim=1) [N, 1000]\n",
    "    logits = outputs.log_softmax(dim=-1) #[N, 1000]\n",
    "    assert torch.any(torch.isnan(logits)) == False\n",
    "    # avg_logits = logits.logsumexp(dim=0) - np.log(logits.shape[0]) # avg_logits = logits.mean(0) [1, 1000]\n",
    "    avg_logits = logits.mean(0) #[1, 1000]\n",
    "    # print(avg_logits)\n",
    "    if torch.any(torch.isnan(avg_logits)):\n",
    "        print(\"average logits \", outputs.log_softmax(dim=1).mean(0))\n",
    "    assert torch.any(torch.isnan(avg_logits)) == False\n",
    "    \n",
    "    min_real = torch.finfo(avg_logits.dtype).min\n",
    "    avg_logits = torch.clamp(avg_logits, min=min_real)\n",
    "    assert torch.any(torch.isnan(avg_logits)) == False\n",
    "    return -((avg_logits) * (torch.exp(avg_logits))).sum(dim=-1)\n",
    "\n",
    "kl_loss = torch.nn.KLDivLoss(reduction=\"batchmean\")\n",
    "\n",
    "\n"
   ]
  },
  {
   "cell_type": "code",
   "execution_count": 5,
   "metadata": {},
   "outputs": [
    {
     "name": "stdout",
     "output_type": "stream",
     "text": [
      "logit  tensor([12.,  3.,  3.,  3.])\n",
      "target dist  tensor([3., 3., 3., 9.])\n",
      "tensor(0.0079)\n",
      "tensor([-3.7008e-04, -9.0004e+00, -9.0004e+00, -9.0004e+00])\n",
      "kl loss:  tensor(2.2316)\n",
      "kl loss:  tensor(1.5007)\n",
      "JS loss : 1.8661872148513794\n",
      "\n",
      "logit  tensor([ 3.,  3.,  3., 12.])\n",
      "target dist  tensor([3., 3., 3., 9.])\n",
      "tensor(0.0079)\n",
      "tensor([-9.0004e+00, -9.0004e+00, -9.0004e+00, -3.7020e-04])\n",
      "kl loss:  tensor(0.0038)\n",
      "kl loss:  tensor(0.0015)\n",
      "JS loss : 0.0026292267721146345\n",
      "\n"
     ]
    }
   ],
   "source": [
    "\n",
    "logit = torch.tensor([12.0, 3, 3, 3.0], requires_grad=True)\n",
    "logit2 = torch.tensor([3, 3, 3, 12.0], requires_grad=True)\n",
    "GT = torch.tensor([3, 3, 3, 9.0], requires_grad=True)\n",
    "for each in [logit, logit2]:\n",
    "    print(\"logit \", each)\n",
    "    print(\"target dist \", GT)\n",
    "    print(avg_entropy(each))\n",
    "    # print(avg_entropy(torch.nn.functional.softmax(each, dim=-1)))\n",
    "    \n",
    "    input = F.log_softmax(each, dim=-1)\n",
    "    # input = F.log_softmax(torch.nn.functional.softmax(each, dim=-1), dim=-1)\n",
    "    target = F.softmax(GT, dim=-1)\n",
    "    one = 0.5 *kl_loss(input, target)\n",
    "    print(input)\n",
    "    print(\"kl loss: \", kl_loss(input, target))\n",
    "\n",
    "    input = F.log_softmax(GT, dim=-1)\n",
    "    # input = F.log_softmax(torch.nn.functional.softmax(GT, dim=-1), dim=-1)\n",
    "    target = F.softmax(each, dim=-1)\n",
    "    two = 0.5 *kl_loss(input, target)\n",
    "    print(\"kl loss: \", kl_loss(input, target))\n",
    "    print(\"JS loss : {}\\n\".format( one + two))\n",
    "    \n",
    "    "
   ]
  },
  {
   "cell_type": "code",
   "execution_count": null,
   "metadata": {},
   "outputs": [],
   "source": []
  }
 ],
 "metadata": {
  "kernelspec": {
   "display_name": "base",
   "language": "python",
   "name": "python3"
  },
  "language_info": {
   "codemirror_mode": {
    "name": "ipython",
    "version": 3
   },
   "file_extension": ".py",
   "mimetype": "text/x-python",
   "name": "python",
   "nbconvert_exporter": "python",
   "pygments_lexer": "ipython3",
   "version": "3.10.9"
  },
  "orig_nbformat": 4
 },
 "nbformat": 4,
 "nbformat_minor": 2
}
