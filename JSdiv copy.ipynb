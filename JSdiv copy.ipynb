{
 "cells": [
  {
   "cell_type": "code",
   "execution_count": 1,
   "metadata": {},
   "outputs": [
    {
     "name": "stderr",
     "output_type": "stream",
     "text": [
      "/home/seongha/anaconda3/lib/python3.10/site-packages/tqdm/auto.py:21: TqdmWarning: IProgress not found. Please update jupyter and ipywidgets. See https://ipywidgets.readthedocs.io/en/stable/user_install.html\n",
      "  from .autonotebook import tqdm as notebook_tqdm\n"
     ]
    }
   ],
   "source": [
    "\n",
    "import argparse\n",
    "\n",
    "import time\n",
    "\n",
    "from copy import deepcopy\n",
    "\n",
    "from PIL import Image\n",
    "import numpy as np\n",
    "from tqdm import tqdm\n",
    "\n",
    "import torch\n",
    "import torch.nn.parallel\n",
    "import torch.nn.functional as F\n",
    "import torch.backends.cudnn as cudnn\n",
    "import torch.optim\n",
    "import torch.utils.data\n",
    "import torch.utils.data.distributed\n",
    "import torchvision.transforms as transforms\n",
    "import pandas as pd\n",
    "import os\n",
    "\n",
    "try:\n",
    "    from torchvision.transforms import InterpolationMode\n",
    "    BICUBIC = InterpolationMode.BICUBIC\n",
    "except ImportError:\n",
    "    BICUBIC = Image.BICUBIC\n",
    "import torchvision.models as models\n",
    "\n",
    "import clip\n",
    "from clip.custom_clip import get_coop\n",
    "from clip.cocoop import get_cocoop\n",
    "from data.imagnet_prompts import imagenet_classes\n",
    "from data.datautils import AugMixAugmenter, build_dataset\n",
    "from utils.tools import Summary, AverageMeter, ProgressMeter, load_model_weight, set_random_seed, create_logger\n",
    "from data.cls_to_names import *\n",
    "from data.fewshot_datasets import fewshot_datasets\n",
    "from data.imagenet_variants import thousand_k_to_200, imagenet_a_mask, imagenet_r_mask, imagenet_v_mask\n",
    "from clip_retrieval.clip_client import ClipClient, Modality\n",
    "\n",
    "from collections import defaultdict\n",
    "%load_ext autoreload\n",
    "%autoreload 2\n",
    "\n",
    "client = ClipClient(\n",
    "    url=\"http://127.0.0.1:1234/knn-service\",\n",
    "    indice_name='laion_400m',\n",
    "    modality=Modality.IMAGE,\n",
    "    num_images=20,\n",
    "    deduplicate=False,\n",
    ")\n",
    "client_backup = ClipClient(\n",
    "    url=\"http://127.0.0.1:1234/knn-service\",\n",
    "    indice_name='laion_400m',\n",
    "    modality=Modality.IMAGE,\n",
    "    num_images=200,\n",
    "    deduplicate=False,\n",
    ")\n",
    "\n",
    "client_backup2 = ClipClient(\n",
    "    url=\"http://127.0.0.1:1234/knn-service\",\n",
    "    indice_name='laion_400m',\n",
    "    modality=Modality.IMAGE,\n",
    "    num_images=500,\n",
    "    deduplicate=False,\n",
    ")\n",
    "\n",
    "## Class to names mapping\n",
    "fewshot_datasets = ['DTD', 'Flower102', 'Food101', 'Cars', 'SUN397', \n",
    "                    'Aircraft', 'Pets', 'Caltech101', 'UCF101', 'eurosat']\n",
    "test_sets = 'DTD/Food101/Cars/SUN397/Aircraft/Pets/Caltech101/UCF101/eurosat'#Parameters\n",
    "tta_steps = 1\n",
    "which_loss = \"cosine\"\n",
    "gpu = 7\n",
    "print_freq = 100\n",
    "arch='ViT-B/16'\n",
    "n_ctx=4\n",
    "ctx_init=\"a_photo_of_a\"\n",
    "lr = 5e-3\n",
    "global retrieve_K\n",
    "retrieve_K= 1"
   ]
  },
  {
   "cell_type": "code",
   "execution_count": 2,
   "metadata": {},
   "outputs": [],
   "source": [
    "import torch\n",
    "import torch.nn.functional as F\n",
    "\n",
    "def average_entropy(input_tensor):\n",
    "    # Compute the softmax over the second dimension (N classes)\n",
    "    probs = F.softmax(input_tensor, dim=-1)\n",
    "    \n",
    "    # Compute the entropy\n",
    "    entropy = -torch.sum(probs * torch.log(probs + 1e-9), dim=-1)\n",
    "    \n",
    "    # Compute and return the average entropy\n",
    "    return torch.mean(entropy)"
   ]
  },
  {
   "cell_type": "code",
   "execution_count": 3,
   "metadata": {},
   "outputs": [],
   "source": [
    "\n",
    "\n",
    "def select_confident_samples(logits, top):\n",
    "    batch_entropy = -(logits.softmax(1) * logits.log_softmax(1)).sum(1)\n",
    "    idx = torch.argsort(batch_entropy, descending=False)[:int(batch_entropy.size()[0] * top)]\n",
    "    return logits[idx], idx\n",
    "\n",
    "def Cosine(img_logit, cap_logit1, cap_logit2, model):\n",
    "    return 1- F.cosine_similarity(F.softmax(model.alpha * img_logit + (1-model.alpha) * cap_logit1, dim=-1) , F.softmax(model.alpha * img_logit + (1-model.alpha) * cap_logit2, dim=-1) )\n",
    "    \n",
    "def JSdiv(logit, logit2, model):\n",
    "    # assert logit.shape == logit2.shape, (logit.shape, logit2.shape)\n",
    "    class_num = logit.size()[-1]\n",
    "    \n",
    "    kl_loss = torch.nn.KLDivLoss(reduction=\"batchmean\")\n",
    "    prob1 = F.softmax(logit, dim=-1)\n",
    "    prob2 = F.softmax(logit2, dim=-1)\n",
    "    total_m = torch.sigmoid(model.alpha) * prob1 + (1-torch.sigmoid(model.alpha)) *prob2\n",
    "    loss = 0.0\n",
    "    loss += torch.sigmoid(model.alpha)* kl_loss(F.log_softmax(logit, dim=-1), total_m)\n",
    "    loss += (1-torch.sigmoid(model.alpha)) * kl_loss(F.log_softmax(logit2, dim=-1), total_m)\n",
    "    return loss\n",
    "def JeffreyDiv(logit, logit2):\n",
    "\n",
    "    kl_loss = torch.nn.KLDivLoss(reduction=\"batchmean\")\n",
    "    class_num = logit.size()[-1]\n",
    "    uni_ent = average_entropy(torch.ones(class_num))\n",
    "    alpha = (1 - (average_entropy(logit2)/uni_ent))\n",
    "    input = F.log_softmax(logit, dim=-1)\n",
    "    target = F.softmax(logit2, dim=-1)\n",
    "    #(1-entropy(p)/entropy(Unif(C)))\n",
    "    input_ = F.log_softmax(logit2, dim=-1)\n",
    "    target_ = F.softmax(logit, dim=-1)\n",
    "    beta = (1 - (average_entropy(logit)/uni_ent))\n",
    "    # total = alpha+beta #weight sum 1\n",
    "    one = alpha * kl_loss(input, target.detach()) #image를 caption에 맞춤\n",
    "    two = beta * kl_loss(input_, target_.detach())#caption을 Image에 맞춤\n",
    "\n",
    "    # print(alpha, beta)\n",
    "    # print(one, two)\n",
    "    # print(alpha/cap_max, beta/img_max)\n",
    "    return one + two\n",
    "\n",
    "def KLreliable(logit, logit2):\n",
    "    assert logit.shape == logit2.shape, (logit.shape, logit2.shape)\n",
    "    kl_loss = torch.nn.KLDivLoss(reduction=\"batchmean\")\n",
    "    if average_entropy(logit) < average_entropy(logit2) + 0.2:\n",
    "        # first is more reliable\n",
    "        # print(\"image is more reliable\")\n",
    "        input = F.log_softmax(logit2, dim=-1)\n",
    "        target = F.softmax(logit, dim=-1)\n",
    "        return kl_loss(input, target)\n",
    "    else:\n",
    "        # print(\"caption is more reliable\")\n",
    "        input = F.log_softmax(logit, dim=-1)\n",
    "        target = F.softmax(logit2, dim=-1)\n",
    "        return kl_loss(input, target)"
   ]
  },
  {
   "cell_type": "code",
   "execution_count": 4,
   "metadata": {},
   "outputs": [],
   "source": [
    "\n",
    "def accuracy(output, target, topk=(1,), caption=None, logger=None):\n",
    "    \"\"\"Computes the accuracy over the k top predictions for the specified values of k\"\"\"\n",
    "    with torch.no_grad():\n",
    "        \n",
    "        maxk = max(topk)\n",
    "        batch_size = target.size(0)\n",
    "        pred = output.argmax(dim=1)\n",
    "        assert pred.shape == target.shape, (pred.shape, target.shape)\n",
    "        correct = pred.eq(target).sum()\n",
    "        # if output.shape[0] == 1:#only image prediction\n",
    "        #     logit_k, pred = output.topk(maxk, 1, True, True)\n",
    "        #     pred = pred.t()\n",
    "        #     correct = pred.eq(target.view(1, -1).expand_as(pred))\n",
    "        # else: # evaluate captions\n",
    "        #     pred = torch.mean(output, 0, keepdim=True)\n",
    "        #     _, pred = pred.topk(maxk, 1, True, True)\n",
    "        #     pred = pred.reshape(maxk, 1)\n",
    "        #     correct = pred.eq(target.view(1, -1).expand_as(pred))\n",
    "        return correct\n",
    "        # res = []\n",
    "        # for k in topk:\n",
    "        #     correct_k = correct[:k].reshape(-1).float().sum(0, keepdim=True)\n",
    "        #     res.append(correct_k.mul_(100.0 / batch_size))\n",
    "        # return res"
   ]
  },
  {
   "cell_type": "code",
   "execution_count": 5,
   "metadata": {},
   "outputs": [],
   "source": [
    "\n",
    "def return_caption(img_path, retrieve_K=1):\n",
    "    try:\n",
    "        query_res = client.query(image=img_path)\n",
    "        assert len(query_res) >= retrieve_K\n",
    "        query_res = query_res[:retrieve_K]\n",
    "        retrieved_txt= [D['caption'] for D in query_res]\n",
    "        retrieved_url = [D['url'] for D in query_res]\n",
    "        retrieved_score = [D['similarity'] for D in query_res]\n",
    "        return retrieved_txt, retrieved_score\n",
    "    except:\n",
    "        query_res = client_backup2.query(image=img_path)\n",
    "        if len(query_res) >= retrieve_K:\n",
    "            query_res = query_res[:retrieve_K]\n",
    "            retrieved_txt= [D['caption'] for D in query_res]\n",
    "            retrieved_url = [D['url'] for D in query_res]\n",
    "            retrieved_score = [D['similarity'] for D in query_res]\n",
    "            return retrieved_txt, retrieved_score\n",
    "        else:\n",
    "            return None, None\n",
    "\n",
    "\n",
    "                    "
   ]
  },
  {
   "cell_type": "code",
   "execution_count": 6,
   "metadata": {},
   "outputs": [],
   "source": [
    "\n",
    "def test_time_tuning(model, inputs, optimizer, scaler, imagepath = None):\n",
    "    # Entropy + Triplet loss function * 0.5\n",
    "    # Triplet loss function, anchor = retrieved vocab, positive = top5, negative = bottom5\n",
    "    for j in range(tta_steps):\n",
    "        with torch.cuda.amp.autocast():\n",
    "            output_img, text_features = model(inputs) # bs, n_cls, (1, 1000), logit/ n_cls, 512\n",
    "            # logit_scale = model.logit_scale.exp()\n",
    "            # ent = avg_entropy(output_img)\n",
    "            #caption\n",
    "            retrieved_Caption, retrieved_score = return_caption(imagepath, retrieve_K=retrieve_K)\n",
    "            \n",
    "            if retrieved_Caption==None:\n",
    "                return None\n",
    "            # print(retrieved_Caption)\n",
    "            output_caption = model.caption_ensemble(retrieved_Caption)\n",
    "            # weighted = []\n",
    "            # for score, logit in zip(retrieved_score, output_caption):\n",
    "            #     logit = torch.nn.functional.softmax(logit, dim=-1)\n",
    "            #     weighted.append(score/sum(retrieved_score) * logit)\n",
    "\n",
    "            # tmp = torch.sum(torch.cat(weighted[:retrieve_K]).reshape(retrieve_K, -1), axis=0).reshape(1, -1)\n",
    "            loss = []\n",
    "            # loss_val = JeffreyDiv(output_img.squeeze(), output_caption, model)\n",
    "            loss_val = JSdiv(output_img, output_caption, model)\n",
    "            # # print(loss_val)\n",
    "            # for each in output_caption:\n",
    "            # #     loss.append(JeffreyDiv(output_img.squeeze(), each.squeeze()))\n",
    "            #     loss.append(JSdiv(output_img.squeeze(), each.squeeze(), model))\n",
    "            # loss_val = torch.mean(torch.stack(loss))\n",
    "            #     # loss /= retrieve_K #average JSdiv\n",
    "            # loss_val += Cosine(output_img, output_caption[0], output_caption[1], model).squeeze()\n",
    "            # print(\"loss \", loss)\n",
    "            # if retrieve_K >= 64:\n",
    "            #     loss.sort()\n",
    "            #     cut = int(len(loss) * 0.1)\n",
    "            #     loss_val = torch.mean(torch.stack(loss[:cut]))\n",
    "            # else:\n",
    "            #     loss_val = torch.mean(torch.stack(loss))\n",
    "            optimizer.zero_grad() \n",
    "            scaler.scale(loss_val).backward()\n",
    "            scaler.step(optimizer)\n",
    "            scaler.update()\n",
    "\n",
    "    # print(\"empty caption {}\".format(cnt_empty))\n",
    "    return retrieved_Caption, output_caption"
   ]
  },
  {
   "cell_type": "code",
   "execution_count": 7,
   "metadata": {},
   "outputs": [],
   "source": [
    "img_set = []\n",
    "cap_set = []\n",
    "def test_time_adapt_eval(val_loader, model, model_state, optimizer, optim_state, scaler, save_result=False):\n",
    "    batch_time = AverageMeter('Time', ':6.3f', Summary.NONE)\n",
    "    top1 = AverageMeter('Acc@1', ':6.2f', Summary.AVERAGE)\n",
    "    top2 = AverageMeter('Acc@2', ':6.2f', Summary.AVERAGE)\n",
    "    top3 = AverageMeter('Acc@3', ':6.2f', Summary.AVERAGE)\n",
    "    top4 = AverageMeter('Acc@4', ':6.2f', Summary.AVERAGE)\n",
    "    top5 = AverageMeter('Acc@5', ':6.2f', Summary.AVERAGE)\n",
    "    \n",
    "    progress = ProgressMeter(\n",
    "        len(val_loader),\n",
    "        [batch_time, top1, top2, top3, top4, top5],\n",
    "        prefix='Test: ',\n",
    "        logger = None)\n",
    "\n",
    "    # reset model and switch to evaluate mode\n",
    "    # model.eval()\n",
    "    with torch.no_grad():\n",
    "        model.reset()\n",
    "    end = time.time()\n",
    "    cnt_empty = 0\n",
    "    assert save_result != None\n",
    "    total_images = 0\n",
    "    correct_images = 0\n",
    "    for i, (images, target, imagepath) in tqdm(enumerate(val_loader)): \n",
    "        # print(len(image))\n",
    "        assert gpu is not None\n",
    "        # print(\"Image Path \", imagepath[0])\n",
    "        if isinstance(images, list):\n",
    "            for k in range(len(images)):\n",
    "                images[k] = images[k].cuda(gpu, non_blocking=True)\n",
    "            image = images[0]\n",
    "        target = target.cuda(gpu, non_blocking=True)\n",
    "        ### One time training\n",
    "        images = torch.cat(images, dim=0)\n",
    "        with torch.no_grad():\n",
    "            model.reset()\n",
    "        # optimizer.load_state_dict(optim_state)\n",
    "        # TTA\n",
    "        retrieved_Caption, caption_logit = test_time_tuning(model, image, optimizer, scaler, imagepath[0])\n",
    "        # if retrieved_Caption==None:\n",
    "            # cnt_empty +=1\n",
    "        # print(model.gamma_cap, model.gamma_img)\n",
    "        with torch.no_grad():\n",
    "            with torch.cuda.amp.autocast():\n",
    "                #image\n",
    "                output_img = model.inference(image.cuda(gpu, non_blocking=True))\n",
    "                # save_result['image_path'] = imagepath[0]\n",
    "                # save_result['caption'].append(retrieved_Caption[0])\n",
    "                # output_caption = model.caption_ensemble(retrieved_Caption)\n",
    "        if len(caption_logit)>1:\n",
    "            caption_logit = torch.mean(caption_logit, dim=0)\n",
    "        # print(caption_logit.shape)\n",
    "        uniform = average_entropy(torch.ones(output_img.shape[-1]))\n",
    "        # alpha = (1-average_entropy(output_img)/(uniform))\n",
    "        # beta = (1-average_entropy(caption_logit)/(uniform))\n",
    "        # img_set.append(alpha.item())\n",
    "        # cap_set.append(beta.item())\n",
    "        # print(alpha, beta)\n",
    "        # print(\"--- normalize ---\")\n",
    "        # print((alpha  - np.mean(img_set)) / np.std(img_set),(beta  - np.mean(cap_set)) / np.std(cap_set))\n",
    "        # adjusted = (alpha  - np.mean(img_set)) / np.std(img_set) *output_img + (beta  - np.mean(cap_set)) / np.std(cap_set)*caption_logit \n",
    "        adjusted = torch.nn.functional.softmax( torch.sigmoid(model.alpha) * output_img + (1-torch.sigmoid(model.alpha)) * caption_logit, dim=-1)\n",
    "        # adjusted = torch.sigmoid(model.alpha) * torch.nn.functional.normalize(input, p=2.0, dim=1, eps=1e-12, out=None)\n",
    "        # class_num = caption_logit.size()[-1]\n",
    "        # uni_ent = average_entropy(torch.ones(class_num))\n",
    "        # alpha = (1 - (average_entropy(caption_logit)/uni_ent)) * (1-torch.sigmoid(model.alpha))\n",
    "        # beta = (1 - (average_entropy(output_img)/uni_ent)) * torch.sigmoid(model.alpha)\n",
    "        total_images += 1\n",
    "        correct_images += accuracy(adjusted, target, topk=(1, 2, 3, 4, 5), caption=None, logger=None)\n",
    "        # correct_images += accuracy(output_img, target, topk=(1, 2, 3, 4, 5), caption=None, logger=None)\n",
    "        # acc1, acc2, acc3, acc4, acc5 = accuracy(prob, target, topk=(1, 2, 3, 4, 5), caption=None, logger=None)\n",
    "        # # print(acc1, acc2, acc3, acc4, acc5)\n",
    "        # top1.update(acc1[0], image.size(0))\n",
    "        # top2.update(acc2[0], image.size(0))\n",
    "        # top3.update(acc3[0], image.size(0))\n",
    "        # top4.update(acc4[0], image.size(0))\n",
    "        # top5.update(acc5[0], image.size(0))\n",
    "\n",
    "        # measure elapsed time\n",
    "        batch_time.update(time.time() - end)\n",
    "        end = time.time()\n",
    "\n",
    "        if (i+1) % print_freq == 0:\n",
    "            # progress.display(i)\n",
    "            print(\"model alpha \", model.alpha)\n",
    "            print(\"accuracy  \", correct_images/total_images)\n",
    "            \n",
    "    \n",
    "    print(\"empty caption count = {}\".format(cnt_empty))\n",
    "    # progress.display_summary()\n",
    "    print(\"Accuracy: {}\".format(correct_images/total_images) )\n",
    "    return [top1.avg, top2.avg, top3.avg, top4.avg, top5.avg], save_result"
   ]
  },
  {
   "cell_type": "code",
   "execution_count": 8,
   "metadata": {},
   "outputs": [
    {
     "name": "stdout",
     "output_type": "stream",
     "text": [
      "Initializing the contect with given words: [a_photo_of_a]\n",
      "Initial context: \"a photo of a\"\n",
      "Number of context words (tokens): 4\n",
      "tensor(4.6052, device='cuda:7')\n",
      "tensor(100., device='cuda:7')\n",
      "Parameter containing:\n",
      "tensor(2.6593, requires_grad=True) tensor(14.2857, grad_fn=<ExpBackward0>)\n"
     ]
    }
   ],
   "source": [
    "# load model\n",
    "if test_sets in fewshot_datasets:\n",
    "    classnames = eval(\"{}_classes\".format(test_sets.lower()))\n",
    "model = get_coop(arch, test_sets, gpu, n_ctx, ctx_init)\n",
    "model_state = None\n",
    "print(model.logit_scale)\n",
    "print(model.logit_scale.exp())\n",
    "tmp = torch.nn.Parameter(torch.ones([]) * np.log(1 / 0.07))\n",
    "print(tmp, tmp.exp())"
   ]
  },
  {
   "cell_type": "code",
   "execution_count": 9,
   "metadata": {},
   "outputs": [
    {
     "name": "stdout",
     "output_type": "stream",
     "text": [
      "tuing parameters  {'alpha'}\n",
      "=> Model created: visual backbone ViT-B/16\n",
      "tuing parameters  {'alpha'}\n",
      "{'state': {}, 'param_groups': [{'lr': 0.005, 'betas': (0.9, 0.999), 'eps': 1e-08, 'weight_decay': 0.01, 'amsgrad': False, 'foreach': None, 'maximize': False, 'capturable': False, 'params': [0]}, {'lr': 0.001, 'betas': (0.9, 0.999), 'eps': 1e-08, 'weight_decay': 0.01, 'amsgrad': False, 'foreach': None, 'maximize': False, 'capturable': False, 'params': [1]}]}\n"
     ]
    }
   ],
   "source": [
    "# model.logit_scale\n",
    "# logit_scale = torch.nn.Parameter(torch.ones([]) * np.log(1 / 0.07))\n",
    "# logit_scale =torch.nn.Parameter(torch.ones([]))\n",
    "# print(logit_scale)\n",
    "\n",
    "# model.logit_scale = torch.nn.Parameter(torch.ones([]) * np.log(1 / 0.07))\n",
    "# print(model.logit_scale)\n",
    "\n",
    "cross_check = set()\n",
    "for name, param in model.named_parameters():\n",
    "\n",
    "    if \"alpha\" not in name:\n",
    "        param.requires_grad_(False)\n",
    "    if param.requires_grad : cross_check.add(name)\n",
    "print(\"tuing parameters \", cross_check)\n",
    "\n",
    "print(\"=> Model created: visual backbone {}\".format(arch))\n",
    "\n",
    "assert gpu is not None\n",
    "torch.cuda.set_device(gpu)\n",
    "model = model.cuda(gpu)\n",
    "\n",
    "trainable_param = [{'params' : model.prompt_learner.parameters()},\n",
    "                    {'params' : model.alpha, 'lr': 1e-3}]\n",
    "                   \n",
    "# trainable_param = model.parameters()\n",
    "optimizer = torch.optim.AdamW(trainable_param, lr)\n",
    "optim_state = deepcopy(optimizer.state_dict())\n",
    "\n",
    "cross_check = set()\n",
    "for name, param in model.named_parameters():\n",
    "    if param.requires_grad : cross_check.add(name)\n",
    "print(\"tuing parameters \", cross_check)\n",
    "print(optim_state)"
   ]
  },
  {
   "cell_type": "code",
   "execution_count": 10,
   "metadata": {},
   "outputs": [
    {
     "name": "stdout",
     "output_type": "stream",
     "text": [
      "=> Using native Torch AMP. Training in mixed precision.\n",
      "retrieve K: 32\n",
      "evaluating: DTD\n"
     ]
    },
    {
     "name": "stdout",
     "output_type": "stream",
     "text": [
      "number of test samples: 1692\n"
     ]
    },
    {
     "name": "stderr",
     "output_type": "stream",
     "text": [
      "100it [02:47,  1.42s/it]"
     ]
    },
    {
     "name": "stdout",
     "output_type": "stream",
     "text": [
      "model alpha  Parameter containing:\n",
      "tensor(0.0995, device='cuda:7', requires_grad=True)\n",
      "accuracy   tensor(0.4600, device='cuda:7')\n"
     ]
    },
    {
     "name": "stderr",
     "output_type": "stream",
     "text": [
      "200it [05:14,  1.39s/it]"
     ]
    },
    {
     "name": "stdout",
     "output_type": "stream",
     "text": [
      "model alpha  Parameter containing:\n",
      "tensor(0.2100, device='cuda:7', requires_grad=True)\n",
      "accuracy   tensor(0.5000, device='cuda:7')\n"
     ]
    },
    {
     "name": "stderr",
     "output_type": "stream",
     "text": [
      "300it [07:52,  1.80s/it]"
     ]
    },
    {
     "name": "stdout",
     "output_type": "stream",
     "text": [
      "model alpha  Parameter containing:\n",
      "tensor(0.3090, device='cuda:7', requires_grad=True)\n",
      "accuracy   tensor(0.4933, device='cuda:7')\n"
     ]
    },
    {
     "name": "stderr",
     "output_type": "stream",
     "text": [
      "400it [10:32,  1.41s/it]"
     ]
    },
    {
     "name": "stdout",
     "output_type": "stream",
     "text": [
      "model alpha  Parameter containing:\n",
      "tensor(0.4222, device='cuda:7', requires_grad=True)\n",
      "accuracy   tensor(0.4750, device='cuda:7')\n"
     ]
    },
    {
     "name": "stderr",
     "output_type": "stream",
     "text": [
      "500it [13:05,  2.01s/it]"
     ]
    },
    {
     "name": "stdout",
     "output_type": "stream",
     "text": [
      "model alpha  Parameter containing:\n",
      "tensor(0.5448, device='cuda:7', requires_grad=True)\n",
      "accuracy   tensor(0.4740, device='cuda:7')\n"
     ]
    },
    {
     "name": "stderr",
     "output_type": "stream",
     "text": [
      "600it [15:37,  1.50s/it]"
     ]
    },
    {
     "name": "stdout",
     "output_type": "stream",
     "text": [
      "model alpha  Parameter containing:\n",
      "tensor(0.6582, device='cuda:7', requires_grad=True)\n",
      "accuracy   tensor(0.4800, device='cuda:7')\n"
     ]
    },
    {
     "name": "stderr",
     "output_type": "stream",
     "text": [
      "700it [18:07,  1.45s/it]"
     ]
    },
    {
     "name": "stdout",
     "output_type": "stream",
     "text": [
      "model alpha  Parameter containing:\n",
      "tensor(0.7758, device='cuda:7', requires_grad=True)\n",
      "accuracy   tensor(0.4786, device='cuda:7')\n"
     ]
    },
    {
     "name": "stderr",
     "output_type": "stream",
     "text": [
      "800it [20:39,  1.40s/it]"
     ]
    },
    {
     "name": "stdout",
     "output_type": "stream",
     "text": [
      "model alpha  Parameter containing:\n",
      "tensor(0.8859, device='cuda:7', requires_grad=True)\n",
      "accuracy   tensor(0.4812, device='cuda:7')\n"
     ]
    },
    {
     "name": "stderr",
     "output_type": "stream",
     "text": [
      "900it [23:07,  1.34s/it]"
     ]
    },
    {
     "name": "stdout",
     "output_type": "stream",
     "text": [
      "model alpha  Parameter containing:\n",
      "tensor(0.9840, device='cuda:7', requires_grad=True)\n",
      "accuracy   tensor(0.4756, device='cuda:7')\n"
     ]
    },
    {
     "name": "stderr",
     "output_type": "stream",
     "text": [
      "1000it [25:34,  1.59s/it]"
     ]
    },
    {
     "name": "stdout",
     "output_type": "stream",
     "text": [
      "model alpha  Parameter containing:\n",
      "tensor(1.0844, device='cuda:7', requires_grad=True)\n",
      "accuracy   tensor(0.4800, device='cuda:7')\n"
     ]
    },
    {
     "name": "stderr",
     "output_type": "stream",
     "text": [
      "1100it [28:12,  1.54s/it]"
     ]
    },
    {
     "name": "stdout",
     "output_type": "stream",
     "text": [
      "model alpha  Parameter containing:\n",
      "tensor(1.1760, device='cuda:7', requires_grad=True)\n",
      "accuracy   tensor(0.4782, device='cuda:7')\n"
     ]
    },
    {
     "name": "stderr",
     "output_type": "stream",
     "text": [
      "1200it [30:46,  1.45s/it]"
     ]
    },
    {
     "name": "stdout",
     "output_type": "stream",
     "text": [
      "model alpha  Parameter containing:\n",
      "tensor(1.2622, device='cuda:7', requires_grad=True)\n",
      "accuracy   tensor(0.4733, device='cuda:7')\n"
     ]
    },
    {
     "name": "stderr",
     "output_type": "stream",
     "text": [
      "1300it [33:16,  1.61s/it]"
     ]
    },
    {
     "name": "stdout",
     "output_type": "stream",
     "text": [
      "model alpha  Parameter containing:\n",
      "tensor(1.3612, device='cuda:7', requires_grad=True)\n",
      "accuracy   tensor(0.4738, device='cuda:7')\n"
     ]
    },
    {
     "name": "stderr",
     "output_type": "stream",
     "text": [
      "1400it [35:47,  1.42s/it]"
     ]
    },
    {
     "name": "stdout",
     "output_type": "stream",
     "text": [
      "model alpha  Parameter containing:\n",
      "tensor(1.4380, device='cuda:7', requires_grad=True)\n",
      "accuracy   tensor(0.4664, device='cuda:7')\n"
     ]
    },
    {
     "name": "stderr",
     "output_type": "stream",
     "text": [
      "1500it [38:33,  1.82s/it]"
     ]
    },
    {
     "name": "stdout",
     "output_type": "stream",
     "text": [
      "model alpha  Parameter containing:\n",
      "tensor(1.5216, device='cuda:7', requires_grad=True)\n",
      "accuracy   tensor(0.4680, device='cuda:7')\n"
     ]
    },
    {
     "name": "stderr",
     "output_type": "stream",
     "text": [
      "1600it [41:08,  1.46s/it]"
     ]
    },
    {
     "name": "stdout",
     "output_type": "stream",
     "text": [
      "model alpha  Parameter containing:\n",
      "tensor(1.5991, device='cuda:7', requires_grad=True)\n",
      "accuracy   tensor(0.4650, device='cuda:7')\n"
     ]
    },
    {
     "name": "stderr",
     "output_type": "stream",
     "text": [
      "1692it [43:27,  1.54s/it]\n"
     ]
    },
    {
     "name": "stdout",
     "output_type": "stream",
     "text": [
      "empty caption count = 0\n",
      "Accuracy: 0.4651300311088562\n",
      "retrieve K: 32\n",
      "evaluating: Food101\n",
      "number of test samples: 30300\n"
     ]
    },
    {
     "name": "stderr",
     "output_type": "stream",
     "text": [
      "100it [02:34,  1.46s/it]"
     ]
    },
    {
     "name": "stdout",
     "output_type": "stream",
     "text": [
      "model alpha  Parameter containing:\n",
      "tensor(1.7382, device='cuda:7', requires_grad=True)\n",
      "accuracy   tensor(0.8000, device='cuda:7')\n"
     ]
    },
    {
     "name": "stderr",
     "output_type": "stream",
     "text": [
      "130it [03:19,  1.48s/it]"
     ]
    }
   ],
   "source": [
    "\n",
    "\n",
    "# setup automatic mixed-precision (Amp) loss scaling\n",
    "# scaler = torch.cuda.amp.GradScaler(init_scale=1000)\n",
    "scaler = torch.cuda.amp.GradScaler()\n",
    "\n",
    "print('=> Using native Torch AMP. Training in mixed precision.')\n",
    "\n",
    "cudnn.benchmark = True\n",
    "\n",
    "resolution = 224\n",
    "workers = 4\n",
    "dataset_mode = 'test'\n",
    "data = '/data/seongha'\n",
    "import sys\n",
    "from collections import defaultdict\n",
    "    # norm stats from clip.load()\n",
    "normalize = transforms.Normalize(mean=[0.48145466, 0.4578275, 0.40821073],\n",
    "                                     std=[0.26862954, 0.26130258, 0.27577711])\n",
    "    \n",
    "    # iterating through eval datasets\n",
    "datasets = test_sets.split(\"/\")\n",
    "results = {}\n",
    "\n",
    "# with open('inferece_image_caption{}.txt'.format(test_sets), 'w') as f:\n",
    "    # sys.stdout = f\n",
    "for set_id in datasets:\n",
    "    for retrieve_K in [32]:\n",
    "        print(\"retrieve K: {}\".format(retrieve_K))\n",
    "        Dict = defaultdict(list)\n",
    "        # data_transform = transforms.Compose([\n",
    "        #     transforms.Resize(resolution, interpolation=BICUBIC),\n",
    "        #     transforms.CenterCrop(resolution),\n",
    "        #     transforms.ToTensor(),\n",
    "        #     normalize,\n",
    "        # ])\n",
    "        base_transform = transforms.Compose([\n",
    "            transforms.Resize(224, interpolation=BICUBIC),\n",
    "            transforms.CenterCrop(224)])\n",
    "        preprocess = transforms.Compose([\n",
    "            transforms.ToTensor(),\n",
    "            normalize])\n",
    "        data_transform = AugMixAugmenter(base_transform, preprocess, n_views=retrieve_K-1, \n",
    "                                            augmix=len(set_id)>1)\n",
    "        batchsize = 1\n",
    "        print(\"evaluating: {}\".format(set_id))\n",
    "        classnames = eval(\"{}_classes\".format(set_id.lower()))\n",
    "        model.reset_classnames(classnames, arch)\n",
    "        with torch.no_grad():\n",
    "            model.reset()\n",
    "        optimizer.load_state_dict(optim_state)\n",
    "        val_dataset = build_dataset(set_id, data_transform, data, mode=dataset_mode)\n",
    "        total_length = len(val_dataset)\n",
    "        print(\"number of test samples: {}\".format(len(val_dataset)))\n",
    "\n",
    "        val_loader = torch.utils.data.DataLoader(\n",
    "                    val_dataset,\n",
    "                    batch_size=batchsize, shuffle=True,\n",
    "                    num_workers=workers, pin_memory=True)\n",
    "            \n",
    "        results['image'], tmp = test_time_adapt_eval(val_loader, model, model_state, optimizer, optim_state, scaler, Dict)\n",
    "        Dict = tmp\n",
    "            # assert len(Dict['image_path']) == len(Dict['caption']) and len(Dict['image_correct']) == len(Dict['caption_correct']), [len(v) for k, v in Dict.items()]\n",
    "        df = pd.DataFrame(Dict)\n",
    "        df = df.reset_index()\n",
    "\n",
    "        path = './notebook/JSdiv'\n",
    "        os.makedirs(path, exist_ok=True)\n",
    "        df.to_csv(os.path.join(path, 'JSdiv_{}.csv'.format(set_id)))\n",
    "        \n",
    "        # with open(os.path.join(path,'JSdiv_{}.txt'.format(set_id)), 'w') as f:\n",
    "            \n",
    "        #     correct = df.loc[df['correct'] == 1]\n",
    "        #     wrong = df.loc[df['correct'] == 0]\n",
    "        # print(\"Entropy mean {}\\n\".format(str(correct['image_entropy'].astype(float).mean())))\n",
    "        # print(\"Entropy mean {}\\n\".format(str(wrong['image_entropy'].astype(float).mean())))\n",
    "del val_dataset, val_loader\n",
    "\n",
    "        "
   ]
  }
 ],
 "metadata": {
  "kernelspec": {
   "display_name": "base",
   "language": "python",
   "name": "python3"
  },
  "language_info": {
   "codemirror_mode": {
    "name": "ipython",
    "version": 3
   },
   "file_extension": ".py",
   "mimetype": "text/x-python",
   "name": "python",
   "nbconvert_exporter": "python",
   "pygments_lexer": "ipython3",
   "version": "3.10.9"
  },
  "orig_nbformat": 4
 },
 "nbformat": 4,
 "nbformat_minor": 2
}
